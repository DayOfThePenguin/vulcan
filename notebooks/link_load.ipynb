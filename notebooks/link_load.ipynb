{
 "metadata": {
  "language_info": {
   "codemirror_mode": {
    "name": "ipython",
    "version": 3
   },
   "file_extension": ".py",
   "mimetype": "text/x-python",
   "name": "python",
   "nbconvert_exporter": "python",
   "pygments_lexer": "ipython3",
   "version": "3.8.10"
  },
  "orig_nbformat": 2,
  "kernelspec": {
   "name": "pythonjvsc74a57bd0882153fd03ac0d222bc94fedf773bf8f9a8cd82a780b0b7c5acd37280592795e",
   "display_name": "Python 3.8.10 64-bit ('env': venv)"
  },
  "metadata": {
   "interpreter": {
    "hash": "882153fd03ac0d222bc94fedf773bf8f9a8cd82a780b0b7c5acd37280592795e"
   }
  }
 },
 "nbformat": 4,
 "nbformat_minor": 2,
 "cells": [
  {
   "cell_type": "code",
   "execution_count": 21,
   "metadata": {},
   "outputs": [],
   "source": [
    "items = [[1, 5],[2, 1],[1, 4],[0, 3],[0, 2],]\n",
    "items.sort()"
   ]
  },
  {
   "cell_type": "code",
   "execution_count": 16,
   "metadata": {},
   "outputs": [
    {
     "output_type": "execute_result",
     "data": {
      "text/plain": [
       "[[0, 2], [0, 3], [1, 4], [1, 5], [2, 1]]"
      ]
     },
     "metadata": {},
     "execution_count": 16
    }
   ],
   "source": [
    "items"
   ]
  },
  {
   "cell_type": "code",
   "execution_count": 22,
   "metadata": {},
   "outputs": [
    {
     "output_type": "stream",
     "name": "stdout",
     "text": [
      "[1, 5]\n[1, 4]\n[0, 3]\n[0, 2]\n"
     ]
    }
   ],
   "source": [
    "\n",
    "db = []\n",
    "item = items.pop()\n",
    "current_idx = item[0]\n",
    "current_page = [current_idx, [item[1]]]\n",
    "# current_page\n",
    "while True:\n",
    "    try:\n",
    "        item = items.pop()\n",
    "        print(item)\n",
    "        if item[0] == current_idx:\n",
    "            current_page[1].append(item[1])\n",
    "        else:\n",
    "            link = PageLink(\n",
    "\n",
    "            )\n",
    "            s.add(link)\n",
    "            db.append(current_page)\n",
    "            current_idx = item[0]\n",
    "            current_page = [current_idx, [item[1]]]\n",
    "    except IndexError:\n",
    "        db.append(current_page)\n",
    "        break"
   ]
  },
  {
   "cell_type": "code",
   "execution_count": 23,
   "metadata": {},
   "outputs": [
    {
     "output_type": "execute_result",
     "data": {
      "text/plain": [
       "[[2, [1]], [1, [5, 4]], [0, [3, 2]]]"
      ]
     },
     "metadata": {},
     "execution_count": 23
    }
   ],
   "source": [
    "db"
   ]
  },
  {
   "cell_type": "code",
   "execution_count": null,
   "metadata": {},
   "outputs": [],
   "source": [
    "item = items.pop()\n",
    "current_idx = item[0]\n",
    "current_page = [current_idx, [item[1].decode(\"utf-8\")]]\n",
    "pl_added = 0\n",
    "while True:\n",
    "    try:\n",
    "        item = items.pop()\n",
    "        if item[0] == current_idx:\n",
    "            current_page[1].append(item[1].decode(\"utf-8\"))\n",
    "        else:\n",
    "            link = PageLink(\n",
    "                pl_from=int(current_page[0]),\n",
    "                pl_titles=current_page[1]\n",
    "            )\n",
    "            s.add(link)\n",
    "            pl_added += 1\n",
    "            if pl_added % 10000 == 0:\n",
    "                s.commit()\n",
    "                print(f\"added {pl_added} pages' links\")\n",
    "            current_idx = item[0]\n",
    "            current_page = [current_idx, [item[1].decode(\"utf-8\")]]\n",
    "    except IndexError:\n",
    "        link = PageLink(\n",
    "            pl_from=current_page[0],\n",
    "            pl_titles=current_page[1]\n",
    "        )\n",
    "        s.add(link)\n",
    "        s.commit()\n",
    "        break"
   ]
  }
 ]
}