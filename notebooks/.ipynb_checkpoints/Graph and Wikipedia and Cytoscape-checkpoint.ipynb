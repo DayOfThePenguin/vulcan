{
 "cells": [
  {
   "cell_type": "code",
   "execution_count": 1,
   "metadata": {
    "collapsed": false
   },
   "outputs": [],
   "source": [
    "import wikipedia\n",
    "import igraph\n",
    "import unicodedata"
   ]
  },
  {
   "cell_type": "code",
   "execution_count": 2,
   "metadata": {
    "collapsed": true
   },
   "outputs": [],
   "source": [
    "def check_result(search_query, search_result):\n",
    "    print type(search_query)\n",
    "    print type(search_result)\n",
    "    if(search_query.lower() == search_result.lower()):\n",
    "        return True\n",
    "    else:\n",
    "        return False"
   ]
  },
  {
   "cell_type": "code",
   "execution_count": 67,
   "metadata": {
    "collapsed": false
   },
   "outputs": [],
   "source": [
    "class WikipediaGraph(igraph.Graph):\n",
    "    def __init__(self, start_page, num_iterations):\n",
    "        igraph.Graph.__init__(self)\n",
    "        self.start_page = start_page\n",
    "        self.num_iterations = num_iterations\n",
    "        self.unicode_errors = []\n",
    "        \n",
    "        self.add_page_to_graph(self.start_page)\n",
    "\n",
    "\n",
    "###\n",
    "# Instance Methods\n",
    "###        \n",
    "    \n",
    "    def is_page_in_graph(self, page_name):\n",
    "        \"\"\"\n",
    "            Checks whether a page named \"page_name\" is in the graph\n",
    "        \"\"\"\n",
    "        page_vertex = None\n",
    "        try:\n",
    "            page_vertex = self.vs.find(name=page_name)\n",
    "            return True\n",
    "        except ValueError:\n",
    "            return False\n",
    "        \n",
    "    def is_page_mapped(self, page_name):\n",
    "        \"\"\"\n",
    "            Checks whether page \"page_name\" has been mapped\n",
    "        \"\"\"\n",
    "        if self.is_page_in_graph(page_name) == False:\n",
    "            return False\n",
    "        if self.vs.find(name=page_name)[\"is_mapped\"] == False:\n",
    "            return False\n",
    "        return True\n",
    "    \n",
    "    def add_page_to_graph(self, page_name):\n",
    "        max_map = 10\n",
    "        count = 1\n",
    "        \n",
    "        page = None\n",
    "        try:\n",
    "            page = wikipedia.page(page_name)\n",
    "        except (wikipedia.DisambiguationError, wikipedia.PageError) as e:\n",
    "            print page_name\n",
    "            return\n",
    "        print page_name\n",
    "        page_links = map(lambda x: unicodedata.normalize('NFKD', x).encode('ascii','ignore'), page.links)\n",
    "        \n",
    "        # if page isn't in graph\n",
    "        if self.is_page_in_graph(page_name) == False:\n",
    "            self.add_vertex(name = page_name) # add the page to the graph\n",
    "            self.vs.find(name = page_name)[\"is_mapped\"] = True\n",
    "            for link in page_links:\n",
    "                if count > max_map:\n",
    "                    break\n",
    "                count += 1\n",
    "                \n",
    "                if self.is_page_in_graph(link) == False: # if the target page isn't already in the graph\n",
    "                    link_vertex = self.add_vertex(name = link)\n",
    "                    self.vs.find(name = link)[\"is_mapped\"] = False\n",
    "                    \n",
    "                self.add_edge(page_name, link) # connectes the source and target pages\n",
    "        \n",
    "        # if page is in graph but hasn't been mapped\n",
    "        if self.is_page_mapped(page_name) == False and self.is_page_in_graph(page_name) == True:\n",
    "            self.vs.find(name = page_name)[\"is_mapped\"] = True\n",
    "            for link in page_links:\n",
    "                if count > max_map:\n",
    "                    break\n",
    "                count += 1\n",
    "                \n",
    "                if self.is_page_in_graph(link) == False: # if the target page isn't already in the graph\n",
    "                    link_vertex = self.add_vertex(name = link)\n",
    "                    self.vs.find(name = link)[\"is_mapped\"] = False\n",
    "                    \n",
    "                self.add_edge(page_name, link) # connectes the source and target pages\n",
    "        \n",
    "        if self.is_page_mapped(page_name) == True and self.is_page_in_graph(page_name) == True:\n",
    "            return\n",
    "    # class Foo(Bar):\n",
    "    #   def baz(self, arg):\n",
    "    #     return super(Foo, self).baz(arg)\n",
    "    \n",
    "    # '{} {}'.format(1, 2)\n",
    "    \n",
    "    def write(self):\n",
    "        file_name = \"{}_v_{}_e_{}.gml\".format(self.start_page, self.vcount(), self.ecount())\n",
    "        print file_name\n",
    "        return super(WikipediaGraph, self).write(, format=\"gml\")\n",
    "\n",
    "###\n",
    "# Class Methods\n",
    "###\n",
    "        \n",
    "    def check_result(search_query, search_result):\n",
    "        print type(search_query)\n",
    "        print type(search_result)\n",
    "        if(search_query.lower() == search_result.lower()):\n",
    "            return True\n",
    "        else:\n",
    "            return False"
   ]
  },
  {
   "cell_type": "code",
   "execution_count": 68,
   "metadata": {
    "collapsed": false
   },
   "outputs": [
    {
     "name": "stdout",
     "output_type": "stream",
     "text": [
      "Quantum Mechanics\n"
     ]
    }
   ],
   "source": [
    "g = WikipediaGraph(\"Quantum Mechanics\", 2)"
   ]
  },
  {
   "cell_type": "code",
   "execution_count": 69,
   "metadata": {
    "collapsed": false
   },
   "outputs": [
    {
     "name": "stdout",
     "output_type": "stream",
     "text": [
      "[]\n",
      "[]\n"
     ]
    }
   ],
   "source": [
    "print g.unicode_errors\n",
    "print map(lambda x: unicodedata.normalize('NFKD', x).encode('ascii','ignore'), g.unicode_errors)"
   ]
  },
  {
   "cell_type": "code",
   "execution_count": 70,
   "metadata": {
    "collapsed": false
   },
   "outputs": [
    {
     "name": "stdout",
     "output_type": "stream",
     "text": [
      "IGRAPH UN-- 11 10 -- \n",
      "+ attr: is_mapped (v), name (v)\n",
      "11\n",
      "10\n"
     ]
    }
   ],
   "source": [
    "print g.summary()\n",
    "print g.vcount()\n",
    "print g.ecount()"
   ]
  },
  {
   "cell_type": "code",
   "execution_count": 71,
   "metadata": {
    "collapsed": false
   },
   "outputs": [],
   "source": [
    "# len(wikipedia.page(\"Quantum Mechanics\").links)"
   ]
  },
  {
   "cell_type": "code",
   "execution_count": 72,
   "metadata": {
    "collapsed": false
   },
   "outputs": [
    {
     "name": "stdout",
     "output_type": "stream",
     "text": [
      "[1, 2, 3, 4, 5, 6, 7, 8, 9, 10]\n",
      "[1, 2, 3, 4, 5, 6, 7, 8, 9, 10]\n",
      "0\n",
      "4-dimensional spacetime\n",
      "[1, 2, 3, 4, 5, 6, 7, 8, 9, 10]\n",
      "1\n",
      "Abdus Salam\n",
      "[1, 2, 3, 4, 5, 6, 7, 8, 9, 10]\n",
      "2\n",
      "Absolute zero\n",
      "[1, 2, 3, 4, 5, 6, 7, 8, 9, 10]\n",
      "3\n",
      "Accelerator physics\n",
      "[1, 2, 3, 4, 5, 6, 7, 8, 9, 10]\n",
      "4\n",
      "Accuracy\n",
      "[1, 2, 3, 4, 5, 6, 7, 8, 9, 10]\n",
      "5\n",
      "Acoustics\n",
      "[1, 2, 3, 4, 5, 6, 7, 8, 9, 10]\n",
      "6\n",
      "Acta Physica Polonica B\n",
      "[1, 2, 3, 4, 5, 6, 7, 8, 9, 10]\n",
      "7\n",
      "Action at a distance\n",
      "[1, 2, 3, 4, 5, 6, 7, 8, 9, 10]\n",
      "8\n",
      "Action principle\n",
      "[1, 2, 3, 4, 5, 6, 7, 8, 9, 10]\n",
      "9\n",
      "Addison-Wesley\n",
      "IGRAPH UN-- 104 110 -- \n",
      "+ attr: is_mapped (v), name (v)\n"
     ]
    }
   ],
   "source": [
    "count = 0\n",
    "current_vertices = igraph.VertexSeq(g).select(is_mapped=False)[:]\n",
    "print current_vertices.indices\n",
    "for v in current_vertices:\n",
    "    print current_vertices.indices\n",
    "    print count\n",
    "    g.add_page_to_graph(v[\"name\"])\n",
    "    count += 1\n",
    "print g.summary()"
   ]
  },
  {
   "cell_type": "code",
   "execution_count": null,
   "metadata": {
    "collapsed": true
   },
   "outputs": [],
   "source": []
  },
  {
   "cell_type": "code",
   "execution_count": 73,
   "metadata": {
    "collapsed": false
   },
   "outputs": [],
   "source": [
    "g.write()"
   ]
  },
  {
   "cell_type": "code",
   "execution_count": 8,
   "metadata": {
    "collapsed": false
   },
   "outputs": [
    {
     "data": {
      "text/plain": [
       "[u'Bohr\\u2013Einstein debates',\n",
       " u'Bohr',\n",
       " u'Quantum (book)',\n",
       " u'Niels Bohr',\n",
       " u'List of things named after Albert Einstein',\n",
       " u'List of things named after Niels Bohr',\n",
       " u'Complementarity (physics)',\n",
       " u'Albert Einstein',\n",
       " u'Photon entanglement',\n",
       " u'Hidden variable theory']"
      ]
     },
     "execution_count": 8,
     "metadata": {},
     "output_type": "execute_result"
    }
   ],
   "source": [
    "wikipedia.search(\"BohrEinstein debates\")"
   ]
  },
  {
   "cell_type": "code",
   "execution_count": null,
   "metadata": {
    "collapsed": true
   },
   "outputs": [],
   "source": []
  }
 ],
 "metadata": {
  "kernelspec": {
   "display_name": "Python 2",
   "language": "python",
   "name": "python2"
  },
  "language_info": {
   "codemirror_mode": {
    "name": "ipython",
    "version": 2
   },
   "file_extension": ".py",
   "mimetype": "text/x-python",
   "name": "python",
   "nbconvert_exporter": "python",
   "pygments_lexer": "ipython2",
   "version": "2.7.13"
  }
 },
 "nbformat": 4,
 "nbformat_minor": 1
}
